{
 "cells": [
  {
   "cell_type": "code",
   "execution_count": 2,
   "id": "44bdf50a",
   "metadata": {},
   "outputs": [
    {
     "name": "stdout",
     "output_type": "stream",
     "text": [
      "rajini is not their in list\n"
     ]
    }
   ],
   "source": [
    "#write a program to find rajini in a list\n",
    "l= [100,\"lakshmi\",\"priya\",\"rajini\",True,]\n",
    "if \"rajini\" in l:\n",
    "    print(\"rajini is there in list\") \n",
    "else:\n",
    "    print (\"rajini is not their in list\") "
   ]
  },
  {
   "cell_type": "code",
   "execution_count": 4,
   "id": "a6f94eea",
   "metadata": {},
   "outputs": [
    {
     "name": "stdout",
     "output_type": "stream",
     "text": [
      "list: ['Hello', 'world', 45, 503.24, True]\n",
      " new list: ['Thank you ']\n"
     ]
    }
   ],
   "source": [
    "#Write a program to replace [\"Hello\",\"world\",45,503.24,True] to [\"Thank you\"]\n",
    "l=[\"Hello\",\"world\",45,503.24,True]\n",
    "print(\"list:\", l) \n",
    "l[0:5]=[\"Thank you \"]\n",
    "print(\" new list:\", l) \n"
   ]
  },
  {
   "cell_type": "code",
   "execution_count": null,
   "id": "ed52ba1e",
   "metadata": {},
   "outputs": [],
   "source": []
  }
 ],
 "metadata": {
  "kernelspec": {
   "display_name": "Python 3 (ipykernel)",
   "language": "python",
   "name": "python3"
  },
  "language_info": {
   "codemirror_mode": {
    "name": "ipython",
    "version": 3
   },
   "file_extension": ".py",
   "mimetype": "text/x-python",
   "name": "python",
   "nbconvert_exporter": "python",
   "pygments_lexer": "ipython3",
   "version": "3.8.3"
  }
 },
 "nbformat": 4,
 "nbformat_minor": 5
}
